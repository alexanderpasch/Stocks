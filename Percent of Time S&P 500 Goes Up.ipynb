{
 "cells": [
  {
   "cell_type": "code",
   "execution_count": 3,
   "id": "aba09a8f",
   "metadata": {},
   "outputs": [],
   "source": [
    "# assuming panas is installed which it is in jupyter\n",
    "import pandas as pd"
   ]
  },
  {
   "cell_type": "code",
   "execution_count": 9,
   "id": "8ea2bed8",
   "metadata": {},
   "outputs": [
    {
     "name": "stdout",
     "output_type": "stream",
     "text": [
      " Volume in drive C is Windows\n",
      " Volume Serial Number is CC10-C383\n",
      "\n",
      " Directory of C:\\Users\\alexa\\Desktop\\Work\n",
      "\n",
      "07/07/21  14:22    <DIR>          .\n",
      "07/07/21  14:22    <DIR>          ..\n",
      "05/17/21  14:58           144,115 Alexander Pasch - The Merits of Transitional Anger.pdf\n",
      "07/01/21  18:25         2,321,048 Beast P.pptx\n",
      "05/03/21  14:26    <DIR>          Blog + Writing\n",
      "05/03/21  14:27    <DIR>          Career\n",
      "07/01/21  18:30         2,231,741 Consolidation and Generality Extraction (LewPea Lab 2018).pptx\n",
      "03/26/21  11:36    <DIR>          Data_Extract_From_Population_estimates_and_projections\n",
      "05/30/21  17:35            25,724 Date Ideas\n",
      "06/18/21  14:55    <DIR>          FF\n",
      "06/04/21  09:24               635 FindingFocusPWs.txt\n",
      "06/04/21  13:46    <DIR>          Fran‡ais\n",
      "07/01/21  18:21         2,665,071 General AI.pptx\n",
      "07/03/21  18:33            56,854 HLI Invoice - Alex P - June.pdf\n",
      "06/15/21  23:19    <DIR>          Income\n",
      "06/04/21  13:45             9,644 Michigan Schools.csv\n",
      "06/04/21  14:00             2,107 Michigan Schools.csv.errors.csv\n",
      "06/04/21  13:46            34,780 Michigan Teachers.csv\n",
      "03/27/21  18:19           462,571 MindfulLearning_OECD.pdf\n",
      "07/07/21  13:13        60,530,216 Miniconda3-py39_4.9.2-Windows-x86_64.exe\n",
      "11/25/20  18:59    <DIR>          MLinPyth\n",
      "05/19/21  13:57    <DIR>          Other Work\n",
      "05/13/21  02:42    <DIR>          PHL 321\n",
      "05/17/21  14:59    <DIR>          PHL 325\n",
      "05/15/21  06:35    <DIR>          PHL 365\n",
      "07/07/21  14:22             8,998 Stock Market Returns.xlsx\n",
      "07/01/21  18:25         3,303,976 Williams_Pasch_Crowell_1-2FR.docx\n",
      "              14 File(s)     71,797,480 bytes\n",
      "              13 Dir(s)  311,377,997,824 bytes free\n"
     ]
    }
   ],
   "source": [
    "ls"
   ]
  },
  {
   "cell_type": "code",
   "execution_count": 15,
   "id": "d925e4cc",
   "metadata": {},
   "outputs": [],
   "source": [
    "stockreturns = pd.read_excel('Stock Market Returns.xlsx')"
   ]
  },
  {
   "cell_type": "code",
   "execution_count": 36,
   "id": "9b6a505a",
   "metadata": {},
   "outputs": [],
   "source": [
    "df = stockreturns[['Year','Annual\\n% Change']]"
   ]
  },
  {
   "cell_type": "code",
   "execution_count": 42,
   "id": "247ca83b",
   "metadata": {
    "scrolled": true
   },
   "outputs": [],
   "source": [
    "df = df.rename(columns={\"Year\": \"Year\", \"Annual\\n% Change\": \"Change\"})"
   ]
  },
  {
   "cell_type": "code",
   "execution_count": 51,
   "id": "5e6d93e4",
   "metadata": {},
   "outputs": [
    {
     "data": {
      "text/plain": [
       "0.6914893617021276"
      ]
     },
     "execution_count": 51,
     "metadata": {},
     "output_type": "execute_result"
    }
   ],
   "source": [
    "1 - len(df[df['Change']< 0]) / len(df)"
   ]
  },
  {
   "cell_type": "code",
   "execution_count": 35,
   "id": "099f2026",
   "metadata": {},
   "outputs": [
    {
     "data": {
      "text/plain": [
       "94"
      ]
     },
     "execution_count": 35,
     "metadata": {},
     "output_type": "execute_result"
    }
   ],
   "source": []
  }
 ],
 "metadata": {
  "kernelspec": {
   "display_name": "Python 3 (ipykernel)",
   "language": "python",
   "name": "python3"
  },
  "language_info": {
   "codemirror_mode": {
    "name": "ipython",
    "version": 3
   },
   "file_extension": ".py",
   "mimetype": "text/x-python",
   "name": "python",
   "nbconvert_exporter": "python",
   "pygments_lexer": "ipython3",
   "version": "3.9.1"
  }
 },
 "nbformat": 4,
 "nbformat_minor": 5
}
