{
 "cells": [
  {
   "cell_type": "code",
   "execution_count": 3,
   "id": "047ca662",
   "metadata": {},
   "outputs": [],
   "source": [
    "# assuming panas is installed which it is in jupyter\n",
    "import pandas as pd"
   ]
  },
  {
   "cell_type": "code",
   "execution_count": 9,
   "id": "5147f80a",
   "metadata": {},
   "outputs": [
    {
     "name": "stdout",
     "output_type": "stream",
     "text": [
      " Volume in drive C is Windows\n",
      " Volume Serial Number is CC10-C383\n",
      "\n",
      " Directory of C:\\Users\\alexa\\Desktop\\Work\n",
      "\n",
      "07/07/21  14:22    <DIR>          .\n",
      "07/07/21  14:22    <DIR>          ..\n",
      "05/17/21  14:58           144,115 Alexander Pasch - The Merits of Transitional Anger.pdf\n",
      "07/01/21  18:25         2,321,048 Beast P.pptx\n",
      "05/03/21  14:26    <DIR>          Blog + Writing\n",
      "05/03/21  14:27    <DIR>          Career\n",
      "07/01/21  18:30         2,231,741 Consolidation and Generality Extraction (LewPea Lab 2018).pptx\n",
      "03/26/21  11:36    <DIR>          Data_Extract_From_Population_estimates_and_projections\n",
      "05/30/21  17:35            25,724 Date Ideas\n",
      "06/18/21  14:55    <DIR>          FF\n",
      "06/04/21  09:24               635 FindingFocusPWs.txt\n",
      "06/04/21  13:46    <DIR>          Fran‡ais\n",
      "07/01/21  18:21         2,665,071 General AI.pptx\n",
      "07/03/21  18:33            56,854 HLI Invoice - Alex P - June.pdf\n",
      "06/15/21  23:19    <DIR>          Income\n",
      "06/04/21  13:45             9,644 Michigan Schools.csv\n",
      "06/04/21  14:00             2,107 Michigan Schools.csv.errors.csv\n",
      "06/04/21  13:46            34,780 Michigan Teachers.csv\n",
      "03/27/21  18:19           462,571 MindfulLearning_OECD.pdf\n",
      "07/07/21  13:13        60,530,216 Miniconda3-py39_4.9.2-Windows-x86_64.exe\n",
      "11/25/20  18:59    <DIR>          MLinPyth\n",
      "05/19/21  13:57    <DIR>          Other Work\n",
      "05/13/21  02:42    <DIR>          PHL 321\n",
      "05/17/21  14:59    <DIR>          PHL 325\n",
      "05/15/21  06:35    <DIR>          PHL 365\n",
      "07/07/21  14:22             8,998 Stock Market Returns.xlsx\n",
      "07/01/21  18:25         3,303,976 Williams_Pasch_Crowell_1-2FR.docx\n",
      "              14 File(s)     71,797,480 bytes\n",
      "              13 Dir(s)  311,377,997,824 bytes free\n"
     ]
    }
   ],
   "source": [
    "ls"
   ]
  },
  {
   "cell_type": "code",
   "execution_count": 15,
   "id": "a694b5e9",
   "metadata": {},
   "outputs": [],
   "source": [
    "stockreturns = pd.read_excel('Stock Market Returns.xlsx')"
   ]
  },
  {
   "cell_type": "code",
   "execution_count": 36,
   "id": "867b258b",
   "metadata": {},
   "outputs": [],
   "source": [
    "df = stockreturns[['Year','Annual\\n% Change']]"
   ]
  },
  {
   "cell_type": "code",
   "execution_count": 42,
   "id": "1e4ea52b",
   "metadata": {
    "scrolled": true
   },
   "outputs": [],
   "source": [
    "df = df.rename(columns={\"Year\": \"Year\", \"Annual\\n% Change\": \"Change\"})"
   ]
  },
  {
   "cell_type": "code",
   "execution_count": 60,
   "id": "4d442e9c",
   "metadata": {
    "scrolled": false
   },
   "outputs": [
    {
     "data": {
      "text/html": [
       "<div>\n",
       "<style scoped>\n",
       "    .dataframe tbody tr th:only-of-type {\n",
       "        vertical-align: middle;\n",
       "    }\n",
       "\n",
       "    .dataframe tbody tr th {\n",
       "        vertical-align: top;\n",
       "    }\n",
       "\n",
       "    .dataframe thead th {\n",
       "        text-align: right;\n",
       "    }\n",
       "</style>\n",
       "<table border=\"1\" class=\"dataframe\">\n",
       "  <thead>\n",
       "    <tr style=\"text-align: right;\">\n",
       "      <th></th>\n",
       "      <th>Year</th>\n",
       "      <th>Change</th>\n",
       "    </tr>\n",
       "  </thead>\n",
       "  <tbody>\n",
       "    <tr>\n",
       "      <th>84</th>\n",
       "      <td>1937</td>\n",
       "      <td>-0.3859</td>\n",
       "    </tr>\n",
       "    <tr>\n",
       "      <th>85</th>\n",
       "      <td>1936</td>\n",
       "      <td>0.2792</td>\n",
       "    </tr>\n",
       "    <tr>\n",
       "      <th>86</th>\n",
       "      <td>1935</td>\n",
       "      <td>0.4137</td>\n",
       "    </tr>\n",
       "    <tr>\n",
       "      <th>87</th>\n",
       "      <td>1934</td>\n",
       "      <td>-0.0594</td>\n",
       "    </tr>\n",
       "    <tr>\n",
       "      <th>88</th>\n",
       "      <td>1933</td>\n",
       "      <td>0.4659</td>\n",
       "    </tr>\n",
       "    <tr>\n",
       "      <th>89</th>\n",
       "      <td>1932</td>\n",
       "      <td>-0.1515</td>\n",
       "    </tr>\n",
       "    <tr>\n",
       "      <th>90</th>\n",
       "      <td>1931</td>\n",
       "      <td>-0.4707</td>\n",
       "    </tr>\n",
       "    <tr>\n",
       "      <th>91</th>\n",
       "      <td>1930</td>\n",
       "      <td>-0.2848</td>\n",
       "    </tr>\n",
       "    <tr>\n",
       "      <th>92</th>\n",
       "      <td>1929</td>\n",
       "      <td>-0.1191</td>\n",
       "    </tr>\n",
       "    <tr>\n",
       "      <th>93</th>\n",
       "      <td>1928</td>\n",
       "      <td>0.3788</td>\n",
       "    </tr>\n",
       "  </tbody>\n",
       "</table>\n",
       "</div>"
      ],
      "text/plain": [
       "    Year  Change\n",
       "84  1937 -0.3859\n",
       "85  1936  0.2792\n",
       "86  1935  0.4137\n",
       "87  1934 -0.0594\n",
       "88  1933  0.4659\n",
       "89  1932 -0.1515\n",
       "90  1931 -0.4707\n",
       "91  1930 -0.2848\n",
       "92  1929 -0.1191\n",
       "93  1928  0.3788"
      ]
     },
     "execution_count": 60,
     "metadata": {},
     "output_type": "execute_result"
    }
   ],
   "source": [
    "df.tail(10)"
   ]
  },
  {
   "cell_type": "code",
   "execution_count": 55,
   "id": "158617d4",
   "metadata": {},
   "outputs": [
    {
     "data": {
      "text/html": [
       "<div>\n",
       "<style scoped>\n",
       "    .dataframe tbody tr th:only-of-type {\n",
       "        vertical-align: middle;\n",
       "    }\n",
       "\n",
       "    .dataframe tbody tr th {\n",
       "        vertical-align: top;\n",
       "    }\n",
       "\n",
       "    .dataframe thead th {\n",
       "        text-align: right;\n",
       "    }\n",
       "</style>\n",
       "<table border=\"1\" class=\"dataframe\">\n",
       "  <thead>\n",
       "    <tr style=\"text-align: right;\">\n",
       "      <th></th>\n",
       "      <th>Year</th>\n",
       "      <th>Change</th>\n",
       "    </tr>\n",
       "  </thead>\n",
       "  <tbody>\n",
       "    <tr>\n",
       "      <th>3</th>\n",
       "      <td>2018</td>\n",
       "      <td>-0.0624</td>\n",
       "    </tr>\n",
       "    <tr>\n",
       "      <th>6</th>\n",
       "      <td>2015</td>\n",
       "      <td>-0.0073</td>\n",
       "    </tr>\n",
       "    <tr>\n",
       "      <th>13</th>\n",
       "      <td>2008</td>\n",
       "      <td>-0.3849</td>\n",
       "    </tr>\n",
       "    <tr>\n",
       "      <th>19</th>\n",
       "      <td>2002</td>\n",
       "      <td>-0.2337</td>\n",
       "    </tr>\n",
       "    <tr>\n",
       "      <th>20</th>\n",
       "      <td>2001</td>\n",
       "      <td>-0.1304</td>\n",
       "    </tr>\n",
       "  </tbody>\n",
       "</table>\n",
       "</div>"
      ],
      "text/plain": [
       "    Year  Change\n",
       "3   2018 -0.0624\n",
       "6   2015 -0.0073\n",
       "13  2008 -0.3849\n",
       "19  2002 -0.2337\n",
       "20  2001 -0.1304"
      ]
     },
     "execution_count": 55,
     "metadata": {},
     "output_type": "execute_result"
    }
   ],
   "source": [
    "df[df['Change']< 0].head()"
   ]
  },
  {
   "cell_type": "code",
   "execution_count": 57,
   "id": "ac47ce23",
   "metadata": {},
   "outputs": [],
   "source": [
    "prob_goingup = 1 - len(df[df['Change']< 0]) / len(df)"
   ]
  },
  {
   "cell_type": "code",
   "execution_count": 64,
   "id": "bf9ca34d",
   "metadata": {},
   "outputs": [
    {
     "name": "stdout",
     "output_type": "stream",
     "text": [
      "The probability the stock market goes up, using data starting from 1928 is 0.6914893617021276\n"
     ]
    }
   ],
   "source": [
    "print('The probability the stock market goes up, using data starting from 1928 is ' + str(prob_goingup))"
   ]
  }
 ],
 "metadata": {
  "kernelspec": {
   "display_name": "Python 3 (ipykernel)",
   "language": "python",
   "name": "python3"
  },
  "language_info": {
   "codemirror_mode": {
    "name": "ipython",
    "version": 3
   },
   "file_extension": ".py",
   "mimetype": "text/x-python",
   "name": "python",
   "nbconvert_exporter": "python",
   "pygments_lexer": "ipython3",
   "version": "3.9.1"
  }
 },
 "nbformat": 4,
 "nbformat_minor": 5
}
